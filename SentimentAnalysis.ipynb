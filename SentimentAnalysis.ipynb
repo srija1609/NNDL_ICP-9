{
  "nbformat": 4,
  "nbformat_minor": 0,
  "metadata": {
    "colab": {
      "provenance": []
    },
    "kernelspec": {
      "name": "python3",
      "display_name": "Python 3"
    },
    "language_info": {
      "name": "python"
    },
    "gpuClass": "standard"
  },
  "cells": [
    {
      "cell_type": "code",
      "execution_count": 2,
      "metadata": {
        "id": "IIojf9jesFca"
      },
      "outputs": [],
      "source": [
        "import pandas as pd #Basic packages for creating dataframes and loading dataset\n",
        "import numpy as np\n",
        "\n",
        "import matplotlib.pyplot as plt #Package for visualization\n",
        "\n",
        "import re #importing package for Regular expression operations\n",
        "\n",
        "from sklearn.model_selection import train_test_split #Package for splitting the data\n",
        "\n",
        "from sklearn.preprocessing import LabelEncoder #Package for conversion of categorical to Numerical\n",
        "\n",
        "from keras.preprocessing.text import Tokenizer #Tokenization\n",
        "from tensorflow.keras.preprocessing.sequence import pad_sequences #Add zeros or crop based on the length\n",
        "from keras.models import Sequential #Sequential Neural Network\n",
        "from keras.layers import Dense, Embedding, LSTM, SpatialDropout1D #For layers in Neural Network\n",
        "from keras.utils.np_utils import to_categorical"
      ]
    },
    {
      "cell_type": "code",
      "source": [
        "from google.colab import drive \n",
        "drive.mount('/content/gdrive') "
      ],
      "metadata": {
        "colab": {
          "base_uri": "https://localhost:8080/"
        },
        "id": "OkNeIwOPtf4t",
        "outputId": "c815627b-ffcd-4fd9-aeda-0fe6b70fc552"
      },
      "execution_count": 3,
      "outputs": [
        {
          "output_type": "stream",
          "name": "stdout",
          "text": [
            "Mounted at /content/gdrive\n"
          ]
        }
      ]
    },
    {
      "cell_type": "code",
      "source": [
        "path_to_csv = '/content/gdrive/My Drive/Sentiment.csv'"
      ],
      "metadata": {
        "id": "X8Ba8H4h3CHe"
      },
      "execution_count": 7,
      "outputs": []
    },
    {
      "cell_type": "code",
      "source": [
        "import pandas as pd\n",
        "\n",
        "# Load the dataset as a Pandas DataFrame\n",
        "dataset = pd.read_csv(path_to_csv, header=0)\n",
        "\n",
        "# Select only the necessary columns 'text' and 'sentiment'\n",
        "mask = dataset.columns.isin(['text', 'sentiment'])\n",
        "data = dataset.loc[:, mask]\n",
        "\n",
        "# Keeping only the necessary columns\n"
      ],
      "metadata": {
        "id": "F_9MkNrLtMPD"
      },
      "execution_count": 8,
      "outputs": []
    },
    {
      "cell_type": "code",
      "source": [
        "data['text'] = data['text'].apply(lambda x: x.lower())\n",
        "data['text'] = data['text'].apply((lambda x: re.sub('[^a-zA-z0-9\\s]', '', x)))"
      ],
      "metadata": {
        "colab": {
          "base_uri": "https://localhost:8080/"
        },
        "id": "OgLqKOk-wTI7",
        "outputId": "4e782ee1-8032-4107-e345-f186ea615437"
      },
      "execution_count": 9,
      "outputs": [
        {
          "output_type": "stream",
          "name": "stderr",
          "text": [
            "<ipython-input-9-cee1da567eb8>:1: SettingWithCopyWarning: \n",
            "A value is trying to be set on a copy of a slice from a DataFrame.\n",
            "Try using .loc[row_indexer,col_indexer] = value instead\n",
            "\n",
            "See the caveats in the documentation: https://pandas.pydata.org/pandas-docs/stable/user_guide/indexing.html#returning-a-view-versus-a-copy\n",
            "  data['text'] = data['text'].apply(lambda x: x.lower())\n",
            "<ipython-input-9-cee1da567eb8>:2: SettingWithCopyWarning: \n",
            "A value is trying to be set on a copy of a slice from a DataFrame.\n",
            "Try using .loc[row_indexer,col_indexer] = value instead\n",
            "\n",
            "See the caveats in the documentation: https://pandas.pydata.org/pandas-docs/stable/user_guide/indexing.html#returning-a-view-versus-a-copy\n",
            "  data['text'] = data['text'].apply((lambda x: re.sub('[^a-zA-z0-9\\s]', '', x)))\n"
          ]
        }
      ]
    },
    {
      "cell_type": "code",
      "source": [
        "for idx, row in data.iterrows():\n",
        "    row[0] = row[0].replace('rt', ' ') #Removing Retweets"
      ],
      "metadata": {
        "id": "kezr9unryjzm"
      },
      "execution_count": 10,
      "outputs": []
    },
    {
      "cell_type": "code",
      "source": [
        "max_fatures = 2000\n",
        "tokenizer = Tokenizer(num_words=max_fatures, split=' ') #Maximum words is 2000 to tokenize sentence\n",
        "tokenizer.fit_on_texts(data['text'].values) \n",
        "X = tokenizer.texts_to_sequences(data['text'].values) #taking values to feature matrix\n"
      ],
      "metadata": {
        "id": "rXTEJG_RyzqR"
      },
      "execution_count": 11,
      "outputs": []
    },
    {
      "cell_type": "code",
      "source": [
        "X = pad_sequences(X) #Padding the feature matrix\n",
        "\n",
        "embed_dim = 128 #Dimension of the Embedded layer\n",
        "lstm_out = 196 #Long short-term memory (LSTM) layer neurons"
      ],
      "metadata": {
        "id": "TgLvgT52y30W"
      },
      "execution_count": 12,
      "outputs": []
    },
    {
      "cell_type": "code",
      "source": [
        "def createmodel():\n",
        "    model = Sequential() #Sequential Neural Network\n",
        "    model.add(Embedding(max_fatures, embed_dim,input_length = X.shape[1])) #input dimension 2000 Neurons, output dimension 128 Neurons\n",
        "    model.add(LSTM(lstm_out, dropout=0.2, recurrent_dropout=0.2)) #Drop out 20%, 196 output Neurons, recurrent dropout 20%\n",
        "    model.add(Dense(3,activation='softmax')) #3 output neurons[positive, Neutral, Negative], softmax as activation\n",
        "    model.compile(loss = 'categorical_crossentropy', optimizer='adam',metrics = ['accuracy']) #Compiling the model\n",
        "    return model\n",
        "# print(model.summary())"
      ],
      "metadata": {
        "id": "zMTB8dQjy65b"
      },
      "execution_count": 13,
      "outputs": []
    },
    {
      "cell_type": "code",
      "source": [
        "labelencoder = LabelEncoder() #Applying label Encoding on the label matrix\n",
        "integer_encoded = labelencoder.fit_transform(data['sentiment']) #fitting the model\n",
        "y = to_categorical(integer_encoded)\n",
        "X_train, X_test, Y_train, Y_test = train_test_split(X,y, test_size = 0.33, random_state = 42) #67% training data, 33% test data split"
      ],
      "metadata": {
        "id": "OwETgBSZy-2X"
      },
      "execution_count": 14,
      "outputs": []
    },
    {
      "cell_type": "code",
      "source": [
        "batch_size = 32 #Batch size 32\n",
        "model = createmodel() #Function call to Sequential Neural Network\n",
        "model.fit(X_train, Y_train, epochs = 1, batch_size=batch_size, verbose = 2) #verbose the higher, the more messages\n",
        "score,acc = model.evaluate(X_test,Y_test,verbose=2,batch_size=batch_size) #evaluating the model\n",
        "print(score)\n",
        "print(acc)"
      ],
      "metadata": {
        "colab": {
          "base_uri": "https://localhost:8080/"
        },
        "id": "qSjFXx1rzDuS",
        "outputId": "8f0045bb-952a-4fd5-bb98-56607dcc3236"
      },
      "execution_count": 15,
      "outputs": [
        {
          "output_type": "stream",
          "name": "stdout",
          "text": [
            "291/291 - 54s - loss: 0.8222 - accuracy: 0.6456 - 54s/epoch - 187ms/step\n",
            "144/144 - 3s - loss: 0.7459 - accuracy: 0.6817 - 3s/epoch - 23ms/step\n",
            "0.7458877563476562\n",
            "0.6817387342453003\n"
          ]
        }
      ]
    },
    {
      "cell_type": "code",
      "source": [
        "print(model.metrics_names) #metrics of the model"
      ],
      "metadata": {
        "colab": {
          "base_uri": "https://localhost:8080/"
        },
        "id": "Bf2EvPG9zeic",
        "outputId": "5b69747c-a8bc-4055-a6e1-9fd3ebc238df"
      },
      "execution_count": 16,
      "outputs": [
        {
          "output_type": "stream",
          "name": "stdout",
          "text": [
            "['loss', 'accuracy']\n"
          ]
        }
      ]
    },
    {
      "cell_type": "markdown",
      "source": [
        "#1. Save the model and use the saved model to predict on new text data (ex, “A lot of good things are happening. We are respected again throughout the world, and that's a great thing.@realDonaldTrump”)"
      ],
      "metadata": {
        "id": "Rquip42Szihb"
      }
    },
    {
      "cell_type": "code",
      "source": [
        "model.save('sentimentAnalysis.h5') #Saving the model"
      ],
      "metadata": {
        "id": "f3kajJNlzqml"
      },
      "execution_count": 17,
      "outputs": []
    },
    {
      "cell_type": "code",
      "source": [
        "from keras.models import load_model #Importing the package for importing the saved model\n",
        "model= load_model('sentimentAnalysis.h5') #loading the saved model"
      ],
      "metadata": {
        "id": "xpAA1CTIzt-9"
      },
      "execution_count": 18,
      "outputs": []
    },
    {
      "cell_type": "code",
      "source": [
        "print(integer_encoded)\n",
        "print(data['sentiment'])"
      ],
      "metadata": {
        "colab": {
          "base_uri": "https://localhost:8080/"
        },
        "id": "uDetTd52zzA1",
        "outputId": "f5b5faf4-f866-448b-ccad-d9e2a4a87a90"
      },
      "execution_count": 19,
      "outputs": [
        {
          "output_type": "stream",
          "name": "stdout",
          "text": [
            "[1 2 1 ... 2 0 2]\n",
            "0         Neutral\n",
            "1        Positive\n",
            "2         Neutral\n",
            "3        Positive\n",
            "4        Positive\n",
            "           ...   \n",
            "13866    Negative\n",
            "13867    Positive\n",
            "13868    Positive\n",
            "13869    Negative\n",
            "13870    Positive\n",
            "Name: sentiment, Length: 13871, dtype: object\n"
          ]
        }
      ]
    },
    {
      "cell_type": "code",
      "source": [
        "# Predicting on the text data\n",
        "sentence = ['A lot of good things are happening. We are respected again throughout the world, and that is a great thing.@realDonaldTrump']\n",
        "sentence = tokenizer.texts_to_sequences(sentence) # Tokenizing the sentence\n",
        "sentence = pad_sequences(sentence, maxlen=28, dtype='int32', value=0) # Padding the sentence\n",
        "sentiment_probs = model.predict(sentence, batch_size=1, verbose=2)[0] # Predicting the sentence text\n",
        "sentiment = np.argmax(sentiment_probs)\n",
        "\n",
        "print(sentiment_probs)\n",
        "if sentiment == 0:\n",
        "    print(\"Neutral\")\n",
        "elif sentiment < 0:\n",
        "    print(\"Negative\")\n",
        "elif sentiment > 0:\n",
        "    print(\"Positive\")\n",
        "else:\n",
        "    print(\"Cannot be determined\")\n"
      ],
      "metadata": {
        "colab": {
          "base_uri": "https://localhost:8080/"
        },
        "id": "nmt0a-S8z3vM",
        "outputId": "855f5899-61ed-4f09-f641-ca982367342d"
      },
      "execution_count": 20,
      "outputs": [
        {
          "output_type": "stream",
          "name": "stdout",
          "text": [
            "1/1 - 2s - 2s/epoch - 2s/step\n",
            "[0.6353926  0.11958241 0.24502498]\n",
            "Neutral\n"
          ]
        }
      ]
    },
    {
      "cell_type": "markdown",
      "source": [
        "#2. Apply GridSearchCV on the source code provided in the class"
      ],
      "metadata": {
        "id": "QEnfsO0OCvFB"
      }
    },
    {
      "cell_type": "code",
      "source": [
        "from keras.wrappers.scikit_learn import KerasClassifier #importing Keras classifier\n",
        "from sklearn.model_selection import GridSearchCV #importing Grid search CV\n",
        "\n",
        "model = KerasClassifier(build_fn=createmodel,verbose=2) #initiating model to test performance by applying multiple hyper parameters\n",
        "batch_size= [10, 20, 40] #hyper parameter batch_size\n",
        "epochs = [1, 2] #hyper parameter no. of epochs\n",
        "param_grid= {'batch_size':batch_size, 'epochs':epochs} #creating dictionary for batch size, no. of epochs\n",
        "grid  = GridSearchCV(estimator=model, param_grid=param_grid) #Applying dictionary with hyper parameters\n",
        "grid_result= grid.fit(X_train,Y_train) #Fitting the model\n",
        "# summarize results\n",
        "print(\"Best: %f using %s\" % (grid_result.best_score_, grid_result.best_params_)) #best score, best hyper parameters"
      ],
      "metadata": {
        "colab": {
          "base_uri": "https://localhost:8080/"
        },
        "id": "cNyJbCLR1e3A",
        "outputId": "cd41283b-f5f7-4570-f9e8-8522297da0e0"
      },
      "execution_count": 22,
      "outputs": [
        {
          "output_type": "stream",
          "name": "stderr",
          "text": [
            "<ipython-input-22-6c99b49150f4>:4: DeprecationWarning: KerasClassifier is deprecated, use Sci-Keras (https://github.com/adriangb/scikeras) instead. See https://www.adriangb.com/scikeras/stable/migration.html for help migrating.\n",
            "  model = KerasClassifier(build_fn=createmodel,verbose=2) #initiating model to test performance by applying multiple hyper parameters\n"
          ]
        },
        {
          "output_type": "stream",
          "name": "stdout",
          "text": [
            "744/744 - 117s - loss: 0.8235 - accuracy: 0.6489 - 117s/epoch - 158ms/step\n",
            "186/186 - 4s - loss: 0.7560 - accuracy: 0.6692 - 4s/epoch - 24ms/step\n",
            "744/744 - 110s - loss: 0.8256 - accuracy: 0.6524 - 110s/epoch - 147ms/step\n",
            "186/186 - 4s - loss: 0.7396 - accuracy: 0.6832 - 4s/epoch - 24ms/step\n",
            "744/744 - 111s - loss: 0.8165 - accuracy: 0.6520 - 111s/epoch - 149ms/step\n",
            "186/186 - 3s - loss: 0.7511 - accuracy: 0.6810 - 3s/epoch - 15ms/step\n",
            "744/744 - 116s - loss: 0.8247 - accuracy: 0.6463 - 116s/epoch - 155ms/step\n",
            "186/186 - 5s - loss: 0.7536 - accuracy: 0.6771 - 5s/epoch - 26ms/step\n",
            "744/744 - 112s - loss: 0.8163 - accuracy: 0.6535 - 112s/epoch - 151ms/step\n",
            "186/186 - 3s - loss: 0.7748 - accuracy: 0.6755 - 3s/epoch - 19ms/step\n",
            "Epoch 1/2\n",
            "744/744 - 112s - loss: 0.8254 - accuracy: 0.6501 - 112s/epoch - 150ms/step\n",
            "Epoch 2/2\n",
            "744/744 - 106s - loss: 0.6788 - accuracy: 0.7133 - 106s/epoch - 143ms/step\n",
            "186/186 - 3s - loss: 0.7319 - accuracy: 0.6805 - 3s/epoch - 15ms/step\n",
            "Epoch 1/2\n",
            "744/744 - 115s - loss: 0.8250 - accuracy: 0.6431 - 115s/epoch - 154ms/step\n",
            "Epoch 2/2\n",
            "744/744 - 111s - loss: 0.6785 - accuracy: 0.7116 - 111s/epoch - 150ms/step\n",
            "186/186 - 3s - loss: 0.7400 - accuracy: 0.6859 - 3s/epoch - 15ms/step\n",
            "Epoch 1/2\n",
            "744/744 - 116s - loss: 0.8317 - accuracy: 0.6416 - 116s/epoch - 156ms/step\n",
            "Epoch 2/2\n",
            "744/744 - 111s - loss: 0.6837 - accuracy: 0.7125 - 111s/epoch - 149ms/step\n",
            "186/186 - 3s - loss: 0.7642 - accuracy: 0.6724 - 3s/epoch - 16ms/step\n",
            "Epoch 1/2\n",
            "744/744 - 112s - loss: 0.8268 - accuracy: 0.6483 - 112s/epoch - 150ms/step\n",
            "Epoch 2/2\n",
            "744/744 - 106s - loss: 0.6750 - accuracy: 0.7145 - 106s/epoch - 143ms/step\n",
            "186/186 - 3s - loss: 0.7634 - accuracy: 0.6674 - 3s/epoch - 15ms/step\n",
            "Epoch 1/2\n",
            "744/744 - 115s - loss: 0.8194 - accuracy: 0.6471 - 115s/epoch - 154ms/step\n",
            "Epoch 2/2\n",
            "744/744 - 111s - loss: 0.6680 - accuracy: 0.7165 - 111s/epoch - 149ms/step\n",
            "186/186 - 3s - loss: 0.7775 - accuracy: 0.6658 - 3s/epoch - 16ms/step\n",
            "372/372 - 65s - loss: 0.8314 - accuracy: 0.6470 - 65s/epoch - 176ms/step\n",
            "93/93 - 2s - loss: 0.7595 - accuracy: 0.6670 - 2s/epoch - 23ms/step\n",
            "372/372 - 63s - loss: 0.8260 - accuracy: 0.6438 - 63s/epoch - 169ms/step\n",
            "93/93 - 2s - loss: 0.7563 - accuracy: 0.6810 - 2s/epoch - 21ms/step\n",
            "372/372 - 68s - loss: 0.8326 - accuracy: 0.6386 - 68s/epoch - 183ms/step\n",
            "93/93 - 3s - loss: 0.7839 - accuracy: 0.6740 - 3s/epoch - 35ms/step\n",
            "372/372 - 66s - loss: 0.8304 - accuracy: 0.6402 - 66s/epoch - 177ms/step\n",
            "93/93 - 2s - loss: 0.7502 - accuracy: 0.6803 - 2s/epoch - 23ms/step\n",
            "372/372 - 64s - loss: 0.8272 - accuracy: 0.6473 - 64s/epoch - 171ms/step\n",
            "93/93 - 3s - loss: 0.7688 - accuracy: 0.6787 - 3s/epoch - 37ms/step\n",
            "Epoch 1/2\n",
            "372/372 - 62s - loss: 0.8367 - accuracy: 0.6437 - 62s/epoch - 167ms/step\n",
            "Epoch 2/2\n",
            "372/372 - 59s - loss: 0.6869 - accuracy: 0.7120 - 59s/epoch - 158ms/step\n",
            "93/93 - 2s - loss: 0.7341 - accuracy: 0.6848 - 2s/epoch - 21ms/step\n",
            "Epoch 1/2\n",
            "372/372 - 68s - loss: 0.8331 - accuracy: 0.6450 - 68s/epoch - 182ms/step\n",
            "Epoch 2/2\n",
            "372/372 - 63s - loss: 0.6858 - accuracy: 0.7129 - 63s/epoch - 169ms/step\n",
            "93/93 - 2s - loss: 0.7389 - accuracy: 0.6740 - 2s/epoch - 23ms/step\n",
            "Epoch 1/2\n",
            "372/372 - 66s - loss: 0.8281 - accuracy: 0.6446 - 66s/epoch - 178ms/step\n",
            "Epoch 2/2\n",
            "372/372 - 64s - loss: 0.6772 - accuracy: 0.7137 - 64s/epoch - 173ms/step\n",
            "93/93 - 2s - loss: 0.7543 - accuracy: 0.6837 - 2s/epoch - 23ms/step\n",
            "Epoch 1/2\n",
            "372/372 - 65s - loss: 0.8373 - accuracy: 0.6399 - 65s/epoch - 174ms/step\n",
            "Epoch 2/2\n",
            "372/372 - 60s - loss: 0.6829 - accuracy: 0.7096 - 60s/epoch - 161ms/step\n",
            "93/93 - 3s - loss: 0.7524 - accuracy: 0.6701 - 3s/epoch - 35ms/step\n",
            "Epoch 1/2\n",
            "372/372 - 68s - loss: 0.8288 - accuracy: 0.6440 - 68s/epoch - 183ms/step\n",
            "Epoch 2/2\n",
            "372/372 - 63s - loss: 0.6698 - accuracy: 0.7145 - 63s/epoch - 169ms/step\n",
            "93/93 - 2s - loss: 0.8018 - accuracy: 0.6518 - 2s/epoch - 24ms/step\n",
            "186/186 - 43s - loss: 0.8490 - accuracy: 0.6334 - 43s/epoch - 233ms/step\n",
            "47/47 - 2s - loss: 0.7553 - accuracy: 0.6735 - 2s/epoch - 32ms/step\n",
            "186/186 - 42s - loss: 0.8371 - accuracy: 0.6372 - 42s/epoch - 223ms/step\n",
            "47/47 - 2s - loss: 0.7644 - accuracy: 0.6659 - 2s/epoch - 38ms/step\n",
            "186/186 - 42s - loss: 0.8423 - accuracy: 0.6326 - 42s/epoch - 225ms/step\n",
            "47/47 - 1s - loss: 0.7902 - accuracy: 0.6563 - 1s/epoch - 31ms/step\n",
            "186/186 - 42s - loss: 0.8474 - accuracy: 0.6348 - 42s/epoch - 228ms/step\n",
            "47/47 - 1s - loss: 0.7470 - accuracy: 0.6749 - 1s/epoch - 31ms/step\n",
            "186/186 - 42s - loss: 0.8339 - accuracy: 0.6422 - 42s/epoch - 227ms/step\n",
            "47/47 - 1s - loss: 0.7811 - accuracy: 0.6625 - 1s/epoch - 30ms/step\n",
            "Epoch 1/2\n",
            "186/186 - 42s - loss: 0.8481 - accuracy: 0.6329 - 42s/epoch - 223ms/step\n",
            "Epoch 2/2\n",
            "186/186 - 37s - loss: 0.6930 - accuracy: 0.7030 - 37s/epoch - 200ms/step\n",
            "47/47 - 2s - loss: 0.7393 - accuracy: 0.6842 - 2s/epoch - 51ms/step\n",
            "Epoch 1/2\n",
            "186/186 - 43s - loss: 0.8422 - accuracy: 0.6388 - 43s/epoch - 234ms/step\n",
            "Epoch 2/2\n",
            "186/186 - 37s - loss: 0.6906 - accuracy: 0.7069 - 37s/epoch - 200ms/step\n",
            "47/47 - 2s - loss: 0.7364 - accuracy: 0.6713 - 2s/epoch - 37ms/step\n",
            "Epoch 1/2\n",
            "186/186 - 41s - loss: 0.8357 - accuracy: 0.6372 - 41s/epoch - 222ms/step\n",
            "Epoch 2/2\n",
            "186/186 - 39s - loss: 0.6923 - accuracy: 0.7104 - 39s/epoch - 212ms/step\n",
            "47/47 - 2s - loss: 0.7490 - accuracy: 0.6789 - 2s/epoch - 52ms/step\n",
            "Epoch 1/2\n",
            "186/186 - 40s - loss: 0.8472 - accuracy: 0.6332 - 40s/epoch - 216ms/step\n",
            "Epoch 2/2\n",
            "186/186 - 39s - loss: 0.6907 - accuracy: 0.7028 - 39s/epoch - 208ms/step\n",
            "47/47 - 2s - loss: 0.7449 - accuracy: 0.6808 - 2s/epoch - 52ms/step\n",
            "Epoch 1/2\n",
            "186/186 - 43s - loss: 0.8448 - accuracy: 0.6371 - 43s/epoch - 233ms/step\n",
            "Epoch 2/2\n",
            "186/186 - 37s - loss: 0.6835 - accuracy: 0.7077 - 37s/epoch - 201ms/step\n",
            "47/47 - 2s - loss: 0.7692 - accuracy: 0.6738 - 2s/epoch - 32ms/step\n",
            "Epoch 1/2\n",
            "233/233 - 51s - loss: 0.8397 - accuracy: 0.6385 - 51s/epoch - 218ms/step\n",
            "Epoch 2/2\n",
            "233/233 - 50s - loss: 0.6766 - accuracy: 0.7069 - 50s/epoch - 214ms/step\n",
            "Best: 0.677822 using {'batch_size': 40, 'epochs': 2}\n"
          ]
        }
      ]
    }
  ]
}
